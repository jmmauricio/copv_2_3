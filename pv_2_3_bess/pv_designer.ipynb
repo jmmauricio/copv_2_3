{
 "cells": [
  {
   "cell_type": "code",
   "execution_count": 1,
   "metadata": {},
   "outputs": [],
   "source": [
    "import numpy as np\n",
    "import json"
   ]
  },
  {
   "cell_type": "code",
   "execution_count": null,
   "metadata": {},
   "outputs": [],
   "source": [
    "S_base = 10e6\n",
    "P_inv_max = 3e6 # W\n",
    "S_inv_max = P_inv_max\n",
    "U_lv = 800\n",
    "U_mv = 20e3\n",
    "U_hv = 132e3\n",
    "\n",
    "F = 50\n",
    "\n",
    "M = 2\n",
    "N = 3\n",
    "\n",
    "\n",
    "S_bess_mva = 1\n",
    "S_bess_storage_kWh = 250\n",
    "\n",
    "S_plant = S_inv_max*N*M + 1.2*S_bess_mva*1e6\n",
    "\n",
    "Irrad_max = 1000 # W/m_2\n",
    "Area_form_factor = 1.0\n",
    "PV_efficiency = 0.1\n",
    "\n",
    "Z_trafo_poi_pu = 0.1\n",
    "S_trafo_poi = M*N*S_inv_max*1.1\n",
    "\n",
    "# Area_inv = Long_n * Long_m    \n",
    "# Long_n =  Area_form_factor * Long_m\n",
    "# Area_inv = Area_form_factor * Long_m**2\n",
    "\n",
    "Area_inv = P_inv_max/(Irrad_max*PV_efficiency)\n",
    "Long_m = np.sqrt( Area_inv/Area_form_factor )\n",
    "Long_n =  Area_form_factor * Long_m\n",
    "\n",
    "\n",
    "\n",
    "S_grid_line = S_plant*2.0\n",
    "\n",
    "data = {\n",
    "    \"system\":{\"name\":f\"pv_{M}_{N}\",\"S_base\":S_base,\"K_p_agc\":0.0,\"K_i_agc\":0.0,\"K_xif\":0.01},\n",
    "    \"buses\":[\n",
    "        {\"name\":\"POIMV\",\"P_W\":0.0,\"Q_var\":0.0,\"U_kV\":U_mv/1e3},\n",
    "        {\"name\":   \"POI\",\"P_W\":0.0,\"Q_var\":0.0,\"U_kV\":U_hv/1e3},\n",
    "        {\"name\":  \"GRID\",\"P_W\":0.0,\"Q_var\":0.0,\"U_kV\":U_hv/1e3},\n",
    "        {\"name\":\"BESS\",\"P_W\":0.0,\"Q_var\":0.0,\"U_kV\":U_lv/1e3},\n",
    "    ],\n",
    "    \"lines\":[\n",
    "        {\"bus_j\":\"POI\",\"bus_k\":\"GRID\",\"X_pu\":0.001*S_base/S_grid_line,\"R_pu\":0.0,\"Bs_pu\":0.0,\"S_mva\":S_base/1e6, 'sym':True, 'monitor':True},\n",
    "        {\"bus_j\":\"BESS\",\"bus_k\": \"POIMV\",\"X_pu\":0.01,\"R_pu\":0.0,\"Bs_pu\":0.0,\"S_mva\":S_base/1e6, 'sym':True, 'monitor':True},\n",
    "        ],\n",
    "    \"transformers\":[{\"bus_j\":\"POIMV\",\"bus_k\": \"POI\",\"X_pu\":0.05*S_base/S_grid_line,\"R_pu\":0.0,\"Bs_pu\":0.0,\"S_mva\":S_base/1e6}],\n",
    "    \"pvs\":[],\n",
    "    \"sources\":[{\"type\":\"genape\",\"bus\":\"GRID\",\n",
    "                \"S_n\":1000e6,\"F_n\":50.0,\"X_v\":0.001,\"R_v\":0.0,\n",
    "                \"K_delta\":0.001,\"K_alpha\":1e-6}],\n",
    "    \"vscs\":[{\"type\":\"bess_pq\",\"bus\":\"BESS\",\"E_kWh\":S_bess_storage_kWh,\"S_n\":S_bess_mva*1e6,\n",
    "            \"soc_ref\":0.5,\n",
    "            \"socs\":[0.0, 0.1, 0.2, 0.8,0.9,1.0],\n",
    "            \"es\":[1, 1.08, 1.13, 1.17, 1.18,1.25]}\n",
    "        ],\n",
    "    }\n",
    "\n",
    "\n"
   ]
  },
  {
   "cell_type": "code",
   "execution_count": 3,
   "metadata": {},
   "outputs": [
    {
     "name": "stdout",
     "output_type": "stream",
     "text": [
      "Short circuit designed cable (5.72 kA): 1X95\n",
      "Nominal current designed cable  (259.81 A): 1X240\n",
      "Cable: 1X240\n"
     ]
    }
   ],
   "source": [
    "cables = [\n",
    "{'name':  '1X95', 'R_dc_km': 0.320, 'R_ac_km': 0.403, 'X_km': 0.128, 'muC_km': 0.187, 'R_0_km': 1.050, 'X_0_km': 0.391, 'muC_0_km': 0.187,  'I_max_aire': 255, 'I_max_direct': 205, 'I_max_tube': 190, 'I_cc_max':  8930, 'I_cc_0_max': 3140},\n",
    "{'name': '1X150', 'R_dc_km': 0.206, 'R_ac_km': 0.262, 'X_km': 0.119, 'muC_km': 0.216, 'R_0_km': 0.890, 'X_0_km': 0.341, 'muC_0_km': 0.216,  'I_max_aire': 335, 'I_max_direct': 260, 'I_max_tube': 245, 'I_cc_max': 14100, 'I_cc_0_max': 3470},\n",
    "{'name': '1X240', 'R_dc_km': 0.125, 'R_ac_km': 0.161, 'X_km': 0.109, 'muC_km': 0.260, 'R_0_km': 0.768, 'X_0_km': 0.297, 'muC_0_km': 0.260,  'I_max_aire': 455, 'I_max_direct': 345, 'I_max_tube': 320, 'I_cc_max': 22600, 'I_cc_0_max': 3810},\n",
    "{'name': '1X400', 'R_dc_km':0.0778, 'R_ac_km': 0.102, 'X_km': 0.102, 'muC_km': 0.313, 'R_0_km': 0.650, 'X_0_km': 0.237, 'muC_0_km': 0.313,  'I_max_aire': 610, 'I_max_direct': 445, 'I_max_tube': 415, 'I_cc_max': 37600, 'I_cc_0_max': 4300},\n",
    "{'name': '1X500', 'R_dc_km':0.0605, 'R_ac_km': 0.084, 'X_km': 0.099, 'muC_km': 0.329, 'R_0_km': 0.618, 'X_0_km': 0.225, 'muC_0_km': 0.329,  'I_max_aire': 715, 'I_max_direct': 505, 'I_max_tube': 480, 'I_cc_max': 47000, 'I_cc_0_max': 4810},\n",
    "{'name': '1X630', 'R_dc_km':0.0469, 'R_ac_km':0.0636, 'X_km': 0.095, 'muC_km': 0.396, 'R_0_km': 0.561, 'X_0_km': 0.195, 'muC_0_km': 0.396,  'I_max_aire': 830, 'I_max_direct': 575, 'I_max_tube': 545, 'I_cc_max': 59200, 'I_cc_0_max': 5140}\n",
    "]\n",
    "\n",
    "\n",
    "Z_base_trafo_poi = U_mv**2/S_trafo_poi \n",
    "Z_trafo_poi = Z_base_trafo_poi*Z_trafo_poi_pu\n",
    "I_cc_max = U_mv/(np.sqrt(3)*Z_trafo_poi)\n",
    "\n",
    "for it, item in enumerate(cables):\n",
    "    if item['I_cc_max'] > I_cc_max:\n",
    "        print(f\"Short circuit designed cable ({I_cc_max/1e3:0.2f} kA): {item['name']}\")\n",
    "        idx_cc = it\n",
    "        break\n",
    "\n",
    "I_max = 1.0*N*S_inv_max/(np.sqrt(3)*U_mv)\n",
    "\n",
    "for it, item in enumerate(cables):\n",
    "    if item['I_max_tube'] > I_max:\n",
    "        print(f\"Nominal current designed cable  ({I_max:0.2f} A): {item['name']}\")\n",
    "        idx_n = it\n",
    "        break\n",
    "\n",
    "if idx_cc > idx_n:\n",
    "    idx_cable = idx_cc\n",
    "else:\n",
    "    idx_cable = idx_n\n",
    "\n",
    "print(f\"Cable: {cables[idx_cable]['name']}\")\n",
    "\n",
    "R_km_cable =  cables[idx_cable]['R_ac_km']\n",
    "X_km_cable =  cables[idx_cable]['X_km']\n",
    "B_km_cable =  2*np.pi*50*cables[idx_cable]['muC_km']*1e-6"
   ]
  },
  {
   "cell_type": "code",
   "execution_count": 4,
   "metadata": {},
   "outputs": [],
   "source": [
    "I_mp = 3.56\n",
    "V_mp = 33.7\n",
    "V_dc_n = 800\n",
    "P_mp = I_mp*V_mp\n",
    "N_pv_s = int(V_dc_n/V_mp)\n",
    "N_pv_p = int(P_inv_max/(P_mp*N_pv_s))"
   ]
  },
  {
   "cell_type": "code",
   "execution_count": 6,
   "metadata": {},
   "outputs": [
    {
     "name": "stdout",
     "output_type": "stream",
     "text": [
      "pos_m =   0.0, pos_n =  86.6\n",
      "pos_m =   0.0, pos_n = 259.8\n",
      "pos_m =   0.0, pos_n = 433.0\n",
      "pos_m = 173.2, pos_n =  86.6\n",
      "pos_m = 173.2, pos_n = 259.8\n",
      "pos_m = 173.2, pos_n = 433.0\n",
      "c:\\Users\\jmmau\\workspace\\cocoon\\copv_2_3\\pv_2_3_bess\n"
     ]
    }
   ],
   "source": [
    "\n",
    "S_feeder = N*S_inv_max\n",
    "I_feeder = S_feeder/(np.sqrt(3)*U_mv)\n",
    "\n",
    "pos_mv_poi_m_pu = 0.0\n",
    "pos_mv_poi_m = pos_mv_poi_m_pu * (M-1)*Long_m\n",
    "pos_mv_poi_n = 0.0\n",
    "\n",
    "for i_m in range(1,M+1):\n",
    "    name_j = \"POIMV\"\n",
    "    monitor = True\n",
    "    pos_m =  (i_m-1) * Long_m\n",
    "\n",
    "\n",
    "    for i_n in range(1,N+1):\n",
    "        name = f\"{i_m}\".zfill(2) + f\"{i_n}\".zfill(2)\n",
    "        name_k = 'MV' + name\n",
    "\n",
    "        data['buses'].append({\"name\":f\"LV{name}\",\"P_W\":0.0,\"Q_var\":0.0,\"U_kV\":U_lv/1e3})\n",
    "        data['buses'].append({\"name\":f\"MV{name}\",\"P_W\":0.0,\"Q_var\":0.0,\"U_kV\":U_mv/1e3})\n",
    "\n",
    "\n",
    "        if i_n == 1:\n",
    "            Long = np.abs(pos_mv_poi_m - pos_m) + Long_n*0.5\n",
    "        else:\n",
    "            Long = Long_n\n",
    "\n",
    "        pos_n =  (i_n-1) * Long_n + Long_n/2\n",
    "        print(f'pos_m = {pos_m:5.1f}, pos_n = {pos_n:5.1f}')\n",
    "\n",
    "        # LV-MV Trafos\n",
    "        S_trafo_n = 1.2*S_inv_max\n",
    "        X_pu = 0.05*S_base/S_trafo_n\n",
    "        R_pu = 0.01*S_base/S_trafo_n\n",
    "        data['lines'].append({\"bus_j\":f\"LV{name}\",\"bus_k\":f\"MV{name}\",\"X_pu\":X_pu,\"R_pu\":R_pu,\"Bs_pu\":0.0,\"S_mva\":S_base/1e6,\"monitor\":False})\n",
    "       \n",
    "        # MV Cables:\n",
    "        S_b = S_base\n",
    "        Z_b = U_mv**2/S_b\n",
    "        R_cable_pu = R_km_cable*Long/1e3/Z_b\n",
    "        X_cable_pu = X_km_cable*Long/1e3/Z_b\n",
    "        B_cable_pu = B_km_cable*Long/1e3*Z_b\n",
    "\n",
    "        \n",
    "        data['lines'].append({\"bus_j\":f\"{name_k}\",\"bus_k\":f\"{name_j}\",\"X_pu\":X_cable_pu,\"R_pu\":R_cable_pu,\"Bs_pu\":B_cable_pu,\"S_mva\":S_base/1e6,\"monitor\":monitor})\n",
    "        name_j = name_k\n",
    "        data['pvs'].append({\"bus\":f\"LV{name}\",\"type\":\"pv_dq_d\",\"S_n\":S_inv_max,\"U_n\":U_lv,\"F_n\":50.0,\"X_s\":0.1,\"R_s\":0.0001,\"monitor\":False,\n",
    "                            \"I_sc\":8,\"V_oc\":42.1,\"I_mp\":I_mp,\"V_mp\":V_mp,\"K_vt\":-0.160,\"K_it\":0.065,\"N_pv_s\":N_pv_s,\"N_pv_p\":N_pv_p})\n",
    "    \n",
    "        monitor = False\n",
    "\n",
    "\n",
    "\n",
    "with open(f'pv_{M}_{N}.json','w') as fobj:\n",
    "    fobj.write(json.dumps(data, indent=2))\n",
    "\n",
    "import os\n",
    "\n",
    "print(os.getcwd())"
   ]
  },
  {
   "cell_type": "code",
   "execution_count": 45,
   "metadata": {},
   "outputs": [
    {
     "data": {
      "text/plain": [
       "5715.767664977295"
      ]
     },
     "execution_count": 45,
     "metadata": {},
     "output_type": "execute_result"
    }
   ],
   "source": [
    "X_POI_pu = 0.1\n",
    "\n",
    "S_POI_n = M*N*S_inv_max*1.1\n",
    "I_POI_n = S_POI_n/(np.sqrt(3)*20e3)\n",
    "I_POI_n/X_POI_pu"
   ]
  },
  {
   "cell_type": "code",
   "execution_count": 46,
   "metadata": {},
   "outputs": [
    {
     "data": {
      "text/plain": [
       "'{\\n  \"system\": {\\n    \"name\": \"pv_2_3\",\\n    \"S_base\": 10000000.0,\\n    \"K_p_agc\": 0.0,\\n    \"K_i_agc\": 0.0,\\n    \"K_xif\": 0.01\\n  },\\n  \"buses\": [\\n    {\\n      \"name\": \"POIMV\",\\n      \"P_W\": 0.0,\\n      \"Q_var\": 0.0,\\n      \"U_kV\": 20.0\\n    },\\n    {\\n      \"name\": \"POI\",\\n      \"P_W\": 0.0,\\n      \"Q_var\": 0.0,\\n      \"U_kV\": 132.0\\n    },\\n    {\\n      \"name\": \"GRID\",\\n      \"P_W\": 0.0,\\n      \"Q_var\": 0.0,\\n      \"U_kV\": 132.0\\n    },\\n    {\\n      \"name\": \"BESS\",\\n      \"P_W\": 0.0,\\n      \"Q_var\": 0.0,\\n      \"U_kV\": 0.8\\n    },\\n    {\\n      \"name\": \"LV0101\",\\n      \"P_W\": 0.0,\\n      \"Q_var\": 0.0,\\n      \"U_kV\": 0.8\\n    },\\n    {\\n      \"name\": \"MV0101\",\\n      \"P_W\": 0.0,\\n      \"Q_var\": 0.0,\\n      \"U_kV\": 20.0\\n    },\\n    {\\n      \"name\": \"LV0102\",\\n      \"P_W\": 0.0,\\n      \"Q_var\": 0.0,\\n      \"U_kV\": 0.8\\n    },\\n    {\\n      \"name\": \"MV0102\",\\n      \"P_W\": 0.0,\\n      \"Q_var\": 0.0,\\n      \"U_kV\": 20.0\\n    },\\n    {\\n      \"name\": \"LV0103\",\\n      \"P_W\": 0.0,\\n      \"Q_var\": 0.0,\\n      \"U_kV\": 0.8\\n    },\\n    {\\n      \"name\": \"MV0103\",\\n      \"P_W\": 0.0,\\n      \"Q_var\": 0.0,\\n      \"U_kV\": 20.0\\n    },\\n    {\\n      \"name\": \"LV0201\",\\n      \"P_W\": 0.0,\\n      \"Q_var\": 0.0,\\n      \"U_kV\": 0.8\\n    },\\n    {\\n      \"name\": \"MV0201\",\\n      \"P_W\": 0.0,\\n      \"Q_var\": 0.0,\\n      \"U_kV\": 20.0\\n    },\\n    {\\n      \"name\": \"LV0202\",\\n      \"P_W\": 0.0,\\n      \"Q_var\": 0.0,\\n      \"U_kV\": 0.8\\n    },\\n    {\\n      \"name\": \"MV0202\",\\n      \"P_W\": 0.0,\\n      \"Q_var\": 0.0,\\n      \"U_kV\": 20.0\\n    },\\n    {\\n      \"name\": \"LV0203\",\\n      \"P_W\": 0.0,\\n      \"Q_var\": 0.0,\\n      \"U_kV\": 0.8\\n    },\\n    {\\n      \"name\": \"MV0203\",\\n      \"P_W\": 0.0,\\n      \"Q_var\": 0.0,\\n      \"U_kV\": 20.0\\n    }\\n  ],\\n  \"lines\": [\\n    {\\n      \"bus_j\": \"POI\",\\n      \"bus_k\": \"GRID\",\\n      \"X_pu\": 0.055555551851852104,\\n      \"R_pu\": 0.0,\\n      \"Bs_pu\": 0.0,\\n      \"S_mva\": 10.0,\\n      \"sym\": true,\\n      \"monitor\": true\\n    },\\n    {\\n      \"bus_j\": \"BESS\",\\n      \"bus_k\": \"POIMV\",\\n      \"X_pu\": 0.01,\\n      \"R_pu\": 0.0,\\n      \"Bs_pu\": 0.0,\\n      \"S_mva\": 10000000.0,\\n      \"sym\": true,\\n      \"monitor\": true\\n    },\\n    {\\n      \"bus_j\": \"LV0101\",\\n      \"bus_k\": \"MV0101\",\\n      \"X_pu\": 0.1388888888888889,\\n      \"R_pu\": 0.027777777777777776,\\n      \"Bs_pu\": 0.0,\\n      \"S_mva\": 10.0,\\n      \"monitor\": false\\n    },\\n    {\\n      \"bus_j\": \"MV0101\",\\n      \"bus_k\": \"POIMV\",\\n      \"X_pu\": 0.0002359919225312595,\\n      \"R_pu\": 0.00034857522502323654,\\n      \"Bs_pu\": 0.00028295270082053794,\\n      \"S_mva\": 10.0,\\n      \"monitor\": true\\n    },\\n    {\\n      \"bus_j\": \"LV0102\",\\n      \"bus_k\": \"MV0102\",\\n      \"X_pu\": 0.1388888888888889,\\n      \"R_pu\": 0.027777777777777776,\\n      \"Bs_pu\": 0.0,\\n      \"S_mva\": 10.0,\\n      \"monitor\": false\\n    },\\n    {\\n      \"bus_j\": \"MV0102\",\\n      \"bus_k\": \"MV0101\",\\n      \"X_pu\": 0.000471983845062519,\\n      \"R_pu\": 0.0006971504500464731,\\n      \"Bs_pu\": 0.0005659054016410759,\\n      \"S_mva\": 10.0,\\n      \"monitor\": false\\n    },\\n    {\\n      \"bus_j\": \"LV0103\",\\n      \"bus_k\": \"MV0103\",\\n      \"X_pu\": 0.1388888888888889,\\n      \"R_pu\": 0.027777777777777776,\\n      \"Bs_pu\": 0.0,\\n      \"S_mva\": 10.0,\\n      \"monitor\": false\\n    },\\n    {\\n      \"bus_j\": \"MV0103\",\\n      \"bus_k\": \"MV0102\",\\n      \"X_pu\": 0.000471983845062519,\\n      \"R_pu\": 0.0006971504500464731,\\n      \"Bs_pu\": 0.0005659054016410759,\\n      \"S_mva\": 10.0,\\n      \"monitor\": false\\n    },\\n    {\\n      \"bus_j\": \"LV0201\",\\n      \"bus_k\": \"MV0201\",\\n      \"X_pu\": 0.1388888888888889,\\n      \"R_pu\": 0.027777777777777776,\\n      \"Bs_pu\": 0.0,\\n      \"S_mva\": 10.0,\\n      \"monitor\": false\\n    },\\n    {\\n      \"bus_j\": \"MV0201\",\\n      \"bus_k\": \"POIMV\",\\n      \"X_pu\": 0.0007079757675937787,\\n      \"R_pu\": 0.0010457256750697097,\\n      \"Bs_pu\": 0.0008488581024616139,\\n      \"S_mva\": 10.0,\\n      \"monitor\": true\\n    },\\n    {\\n      \"bus_j\": \"LV0202\",\\n      \"bus_k\": \"MV0202\",\\n      \"X_pu\": 0.1388888888888889,\\n      \"R_pu\": 0.027777777777777776,\\n      \"Bs_pu\": 0.0,\\n      \"S_mva\": 10.0,\\n      \"monitor\": false\\n    },\\n    {\\n      \"bus_j\": \"MV0202\",\\n      \"bus_k\": \"MV0201\",\\n      \"X_pu\": 0.000471983845062519,\\n      \"R_pu\": 0.0006971504500464731,\\n      \"Bs_pu\": 0.0005659054016410759,\\n      \"S_mva\": 10.0,\\n      \"monitor\": false\\n    },\\n    {\\n      \"bus_j\": \"LV0203\",\\n      \"bus_k\": \"MV0203\",\\n      \"X_pu\": 0.1388888888888889,\\n      \"R_pu\": 0.027777777777777776,\\n      \"Bs_pu\": 0.0,\\n      \"S_mva\": 10.0,\\n      \"monitor\": false\\n    },\\n    {\\n      \"bus_j\": \"MV0203\",\\n      \"bus_k\": \"MV0202\",\\n      \"X_pu\": 0.000471983845062519,\\n      \"R_pu\": 0.0006971504500464731,\\n      \"Bs_pu\": 0.0005659054016410759,\\n      \"S_mva\": 10.0,\\n      \"monitor\": false\\n    }\\n  ],\\n  \"transformers\": [\\n    {\\n      \"bus_j\": \"POIMV\",\\n      \"bus_k\": \"POI\",\\n      \"X_pu\": 0.027777775925926052,\\n      \"R_pu\": 0.0,\\n      \"Bs_pu\": 0.0,\\n      \"S_mva\": 10.0\\n    }\\n  ],\\n  \"pvs\": [\\n    {\\n      \"bus\": \"LV0101\",\\n      \"type\": \"pv_dq_d\",\\n      \"S_n\": 3000000.0,\\n      \"U_n\": 800,\\n      \"F_n\": 50.0,\\n      \"X_s\": 0.1,\\n      \"R_s\": 0.0001,\\n      \"monitor\": false,\\n      \"I_sc\": 8,\\n      \"V_oc\": 42.1,\\n      \"I_mp\": 3.56,\\n      \"V_mp\": 33.7,\\n      \"K_vt\": -0.16,\\n      \"K_it\": 0.065,\\n      \"N_pv_s\": 23,\\n      \"N_pv_p\": 1087\\n    },\\n    {\\n      \"bus\": \"LV0102\",\\n      \"type\": \"pv_dq_d\",\\n      \"S_n\": 3000000.0,\\n      \"U_n\": 800,\\n      \"F_n\": 50.0,\\n      \"X_s\": 0.1,\\n      \"R_s\": 0.0001,\\n      \"monitor\": false,\\n      \"I_sc\": 8,\\n      \"V_oc\": 42.1,\\n      \"I_mp\": 3.56,\\n      \"V_mp\": 33.7,\\n      \"K_vt\": -0.16,\\n      \"K_it\": 0.065,\\n      \"N_pv_s\": 23,\\n      \"N_pv_p\": 1087\\n    },\\n    {\\n      \"bus\": \"LV0103\",\\n      \"type\": \"pv_dq_d\",\\n      \"S_n\": 3000000.0,\\n      \"U_n\": 800,\\n      \"F_n\": 50.0,\\n      \"X_s\": 0.1,\\n      \"R_s\": 0.0001,\\n      \"monitor\": false,\\n      \"I_sc\": 8,\\n      \"V_oc\": 42.1,\\n      \"I_mp\": 3.56,\\n      \"V_mp\": 33.7,\\n      \"K_vt\": -0.16,\\n      \"K_it\": 0.065,\\n      \"N_pv_s\": 23,\\n      \"N_pv_p\": 1087\\n    },\\n    {\\n      \"bus\": \"LV0201\",\\n      \"type\": \"pv_dq_d\",\\n      \"S_n\": 3000000.0,\\n      \"U_n\": 800,\\n      \"F_n\": 50.0,\\n      \"X_s\": 0.1,\\n      \"R_s\": 0.0001,\\n      \"monitor\": false,\\n      \"I_sc\": 8,\\n      \"V_oc\": 42.1,\\n      \"I_mp\": 3.56,\\n      \"V_mp\": 33.7,\\n      \"K_vt\": -0.16,\\n      \"K_it\": 0.065,\\n      \"N_pv_s\": 23,\\n      \"N_pv_p\": 1087\\n    },\\n    {\\n      \"bus\": \"LV0202\",\\n      \"type\": \"pv_dq_d\",\\n      \"S_n\": 3000000.0,\\n      \"U_n\": 800,\\n      \"F_n\": 50.0,\\n      \"X_s\": 0.1,\\n      \"R_s\": 0.0001,\\n      \"monitor\": false,\\n      \"I_sc\": 8,\\n      \"V_oc\": 42.1,\\n      \"I_mp\": 3.56,\\n      \"V_mp\": 33.7,\\n      \"K_vt\": -0.16,\\n      \"K_it\": 0.065,\\n      \"N_pv_s\": 23,\\n      \"N_pv_p\": 1087\\n    },\\n    {\\n      \"bus\": \"LV0203\",\\n      \"type\": \"pv_dq_d\",\\n      \"S_n\": 3000000.0,\\n      \"U_n\": 800,\\n      \"F_n\": 50.0,\\n      \"X_s\": 0.1,\\n      \"R_s\": 0.0001,\\n      \"monitor\": false,\\n      \"I_sc\": 8,\\n      \"V_oc\": 42.1,\\n      \"I_mp\": 3.56,\\n      \"V_mp\": 33.7,\\n      \"K_vt\": -0.16,\\n      \"K_it\": 0.065,\\n      \"N_pv_s\": 23,\\n      \"N_pv_p\": 1087\\n    }\\n  ],\\n  \"sources\": [\\n    {\\n      \"type\": \"genape\",\\n      \"bus\": \"GRID\",\\n      \"S_n\": 1000000000.0,\\n      \"F_n\": 50.0,\\n      \"X_v\": 0.001,\\n      \"R_v\": 0.0,\\n      \"K_delta\": 0.001,\\n      \"K_alpha\": 1e-06\\n    }\\n  ],\\n  \"vscs\": [\\n    {\\n      \"type\": \"bess_pq\",\\n      \"bus\": \"BESS\",\\n      \"E_kWh\": 250,\\n      \"S_n\": 1000000.0,\\n      \"soc_ref\": 0.5,\\n      \"socs\": [\\n        0.0,\\n        0.1,\\n        0.2,\\n        0.8,\\n        0.9,\\n        1.0\\n      ],\\n      \"es\": [\\n        1,\\n        1.08,\\n        1.13,\\n        1.17,\\n        1.18,\\n        1.25\\n      ]\\n    }\\n  ]\\n}'"
      ]
     },
     "execution_count": 46,
     "metadata": {},
     "output_type": "execute_result"
    }
   ],
   "source": [
    "json.dumps(data, indent=2)"
   ]
  },
  {
   "cell_type": "code",
   "execution_count": null,
   "metadata": {},
   "outputs": [],
   "source": []
  },
  {
   "cell_type": "code",
   "execution_count": null,
   "metadata": {},
   "outputs": [],
   "source": []
  }
 ],
 "metadata": {
  "kernelspec": {
   "display_name": "base",
   "language": "python",
   "name": "python3"
  },
  "language_info": {
   "codemirror_mode": {
    "name": "ipython",
    "version": 3
   },
   "file_extension": ".py",
   "mimetype": "text/x-python",
   "name": "python",
   "nbconvert_exporter": "python",
   "pygments_lexer": "ipython3",
   "version": "3.11.7"
  }
 },
 "nbformat": 4,
 "nbformat_minor": 2
}
