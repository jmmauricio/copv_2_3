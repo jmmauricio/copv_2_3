{
 "cells": [
  {
   "cell_type": "code",
   "execution_count": 1,
   "metadata": {},
   "outputs": [],
   "source": [
    "import numpy as np\n",
    "import os\n",
    "import pv_2_3\n",
    "from pydae.utils import read_data, save_json"
   ]
  },
  {
   "cell_type": "code",
   "execution_count": 4,
   "metadata": {},
   "outputs": [
    {
     "name": "stdout",
     "output_type": "stream",
     "text": [
      "V_POIMV =  1.00\n",
      "theta_POIMV =  0.02\n",
      "V_POI =  1.00\n",
      "theta_POI =  0.00\n",
      "V_GRID =  1.00\n",
      "theta_GRID =  0.00\n",
      "V_BESS =  1.00\n",
      "theta_BESS =  0.02\n",
      "V_LV0101 =  1.01\n",
      "theta_LV0101 =  0.07\n",
      "V_MV0101 =  1.00\n",
      "theta_MV0101 =  0.02\n",
      "V_LV0102 =  1.01\n",
      "theta_LV0102 =  0.07\n",
      "V_MV0102 =  1.00\n",
      "theta_MV0102 =  0.02\n",
      "V_LV0103 =  1.01\n",
      "theta_LV0103 =  0.07\n",
      "V_MV0103 =  1.00\n",
      "theta_MV0103 =  0.02\n",
      "V_LV0201 =  1.01\n",
      "theta_LV0201 =  0.07\n",
      "V_MV0201 =  1.00\n",
      "theta_MV0201 =  0.02\n",
      "V_LV0202 =  1.01\n",
      "theta_LV0202 =  0.07\n",
      "V_MV0202 =  1.00\n",
      "theta_MV0202 =  0.02\n",
      "V_LV0203 =  1.01\n",
      "theta_LV0203 =  0.07\n",
      "V_MV0203 =  1.00\n",
      "theta_MV0203 =  0.02\n",
      "p_dc_BESS = -0.00\n",
      "i_dc_BESS = -0.00\n",
      "v_dc_BESS =  1.15\n",
      "omega_GRID =  1.00\n",
      "i_d_GRID =  0.00\n",
      "i_q_GRID = -0.02\n",
      "p_s_GRID = -0.02\n",
      "q_s_GRID =  0.00\n",
      "v_dc_LV0101 =  0.69\n",
      "i_sq_ref_LV0101 =  0.99\n",
      "i_sd_ref_LV0101 =  0.00\n",
      "i_sr_LV0101 =  0.99\n",
      "i_si_LV0101 =  0.06\n",
      "p_s_LV0101 =  1.00\n",
      "q_s_LV0101 = -0.00\n",
      "v_dc_LV0102 =  0.69\n",
      "i_sq_ref_LV0102 =  0.99\n",
      "i_sd_ref_LV0102 = -0.00\n",
      "i_sr_LV0102 =  0.99\n",
      "i_si_LV0102 =  0.07\n",
      "p_s_LV0102 =  1.00\n",
      "q_s_LV0102 = -0.00\n",
      "v_dc_LV0103 =  0.69\n",
      "i_sq_ref_LV0103 =  0.99\n",
      "i_sd_ref_LV0103 = -0.00\n",
      "i_sr_LV0103 =  0.99\n",
      "i_si_LV0103 =  0.07\n",
      "p_s_LV0103 =  1.00\n",
      "q_s_LV0103 =  0.00\n",
      "v_dc_LV0201 =  0.69\n",
      "i_sq_ref_LV0201 =  0.99\n",
      "i_sd_ref_LV0201 = -0.00\n",
      "i_sr_LV0201 =  0.99\n",
      "i_si_LV0201 =  0.07\n",
      "p_s_LV0201 =  1.00\n",
      "q_s_LV0201 = -0.00\n",
      "v_dc_LV0202 =  0.69\n",
      "i_sq_ref_LV0202 =  0.99\n",
      "i_sd_ref_LV0202 =  0.00\n",
      "i_sr_LV0202 =  0.99\n",
      "i_si_LV0202 =  0.07\n",
      "p_s_LV0202 =  1.00\n",
      "q_s_LV0202 =  0.00\n",
      "v_dc_LV0203 =  0.69\n",
      "i_sq_ref_LV0203 =  0.99\n",
      "i_sd_ref_LV0203 =  0.00\n",
      "i_sr_LV0203 =  0.99\n",
      "i_si_LV0203 =  0.07\n",
      "p_s_LV0203 =  1.00\n",
      "q_s_LV0203 = -0.00\n",
      "omega_coi =  1.00\n",
      "p_agc =  0.00\n"
     ]
    }
   ],
   "source": [
    "model = pv_2_3.model()\n",
    "model.ini({},'xy_0.json')\n",
    "model.report_y()"
   ]
  },
  {
   "cell_type": "code",
   "execution_count": null,
   "metadata": {},
   "outputs": [],
   "source": []
  }
 ],
 "metadata": {
  "kernelspec": {
   "display_name": "base",
   "language": "python",
   "name": "python3"
  },
  "language_info": {
   "codemirror_mode": {
    "name": "ipython",
    "version": 3
   },
   "file_extension": ".py",
   "mimetype": "text/x-python",
   "name": "python",
   "nbconvert_exporter": "python",
   "pygments_lexer": "ipython3",
   "version": "3.11.7"
  }
 },
 "nbformat": 4,
 "nbformat_minor": 2
}
